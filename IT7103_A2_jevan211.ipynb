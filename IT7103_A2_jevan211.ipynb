{
  "nbformat": 4,
  "nbformat_minor": 0,
  "metadata": {
    "colab": {
      "provenance": [],
      "authorship_tag": "ABX9TyMozLZphGKtaNJkOvR9vRyZ",
      "include_colab_link": true
    },
    "kernelspec": {
      "name": "python3",
      "display_name": "Python 3"
    },
    "language_info": {
      "name": "python"
    }
  },
  "cells": [
    {
      "cell_type": "markdown",
      "metadata": {
        "id": "view-in-github",
        "colab_type": "text"
      },
      "source": [
        "<a href=\"https://colab.research.google.com/github/Jasminn1/IT7103_jevan211/blob/main/IT7103_A2_jevan211.ipynb\" target=\"_parent\"><img src=\"https://colab.research.google.com/assets/colab-badge.svg\" alt=\"Open In Colab\"/></a>"
      ]
    },
    {
      "cell_type": "code",
      "execution_count": null,
      "metadata": {
        "id": "CzorOnmI-rKj"
      },
      "outputs": [],
      "source": [
        "import pandas as pd\n",
        "import numpy as np\n",
        "\n",
        "df1 = pd.read_csv(\"/Users/jasminnevans/Downloads/auto-mpg.csv\")\n",
        "df1\n",
        "\n",
        "df1.shape\n",
        "df1.info()\n",
        "from sklearn.model_selection import train_test_split\n",
        "\n",
        "traindata, testdata = train_test_split(df1, test_size=0.25)\n",
        "traindata.shape, testdata.shape\n",
        "traindata.describe()\n",
        "from matplotlib import pyplot as plt\n",
        "\n",
        "traindata.hist(bins=20, figsize=(20,15))\n",
        "plt.show\n",
        "import numpy as np\n",
        "numeric_cols = [column for column in df1.columns if (traindata[column].dtypes == np.int64) or (traindata[column].dtypes == np.float64)]\n",
        "numeric_cols\n",
        "traindata[numeric_cols].boxplot(grid=False, figsize=(40,5), rot=30)\n",
        "categorical_columns = [column for column in traindata.columns if traindata[column].dtypes == object]\n",
        "categorical_columns\n",
        "for col in categorical_columns:\n",
        "    frequency_table = traindata[col].value_counts()\n",
        "    plt.figure(figsize = (8, len (frequency_table)*0.4))\n",
        "    frequency_table.plot.barh(title='Bar Chart for Frequencies' + col)\n",
        "    plt.show()\n",
        "    print()\n",
        "Preprocessing\n",
        "\n",
        "num_cols = []\n",
        "log_cols = []\n",
        "cat_cols = []\n",
        "target = ''\n",
        "#The pipeline\n",
        "\n",
        "from sklearn.preprocessing import OneHotEncoder, FunctionTransformer\n",
        "from sklearn.compose import ColumnTransformer\n",
        "from sklearn.impute import SimpleImputer\n",
        "from sklearn.preprocessing import StandardScaler\n",
        "from sklearn.pipeline import Pipeline\n",
        "import numpy as np\n",
        "\n",
        "num_pipeline = Pipeline ([\n",
        "    ('Impute', SimpleImputer (strategy='median')),\n",
        "    ('standardize', StandardScaler())\n",
        "])\n",
        "\n",
        "def log_transformation(x):\n",
        "    return np.log(x+0.1)\n",
        "\n",
        "log_Pipeline = Pipeline ([\n",
        "    ('impute', SimpleImputer(strategy='median'))\n",
        "    ('log transform', FunctionTransformer(log_transformation)),\n",
        "    ('standardize', StandardScaler())\n",
        "])\n",
        "\n",
        "processing_pipeline = ColumnTransformer([\n",
        "    ('numeric', num_pipeline, num_cols),\n",
        "    ('log', log_Pipeline, log_cols),\n",
        "    ('class', OneHotEncoder (max_categories=5, handle_unknown='infrequent_if_exist'), cat_cols)\n",
        "])\n",
        "\n",
        "\n",
        "\n",
        "\n",
        "processing_pipeline"
      ]
    }
  ]
}